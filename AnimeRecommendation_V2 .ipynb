{
  "nbformat": 4,
  "nbformat_minor": 0,
  "metadata": {
    "kernelspec": {
      "name": "python36",
      "display_name": "Python 3.6",
      "language": "python"
    },
    "language_info": {
      "mimetype": "text/x-python",
      "nbconvert_exporter": "python",
      "name": "python",
      "pygments_lexer": "ipython3",
      "version": "3.6.6",
      "file_extension": ".py",
      "codemirror_mode": {
        "version": 3,
        "name": "ipython"
      }
    },
    "colab": {
      "name": "AnimeRecommendationFinal_V2.ipynb",
      "provenance": [],
      "collapsed_sections": []
    }
  },
  "cells": [
    {
      "cell_type": "code",
      "metadata": {
        "trusted": true,
        "id": "T1y773zXE4s9",
        "colab_type": "code",
        "colab": {}
      },
      "source": [
        "#General Notes\n",
        "#p# = stands for partial cells which may or may not be executed for the project\n",
        "import pandas as pd\n",
        "import joblib\n",
        "from google.colab import drive\n",
        "drive.mount('/content/drive')\n",
        "##upload the dataset in your google drive"
      ],
      "execution_count": null,
      "outputs": []
    },
    {
      "cell_type": "code",
      "metadata": {
        "trusted": true,
        "id": "NKeVBtfXE4tb",
        "colab_type": "code",
        "colab": {}
      },
      "source": [
        "## read the CSV file\n",
        "##Enter your path here where you have uploaded the dataset in your google drive\n",
        "ratings = pd.read_csv('/content/drive/My Drive/Colab Notebooks/AnimeDataset/rating.csv')\n",
        "anime = pd.read_csv('/content/drive/My Drive/Colab Notebooks/AnimeDataset/anime.csv')\n",
        "merged = ratings.merge(anime, left_on = 'anime_id', right_on = 'anime_id', suffixes= ['_user', ''])\n",
        "merged.rename(columns = {'rating_user':'user_rating'}, inplace = True)\n",
        "merged.head()\n"
      ],
      "execution_count": null,
      "outputs": []
    },
    {
      "cell_type": "code",
      "metadata": {
        "id": "8Shccpt6LHxE",
        "colab_type": "code",
        "colab": {}
      },
      "source": [
        "# For computing reasons limiting the dataframe length to 10,000 users\n",
        "merged=merged[['user_id', 'name', 'user_rating']]\n",
        "merged_sub= merged[merged.user_id <= 10000]\n",
        "merged_sub.head()"
      ],
      "execution_count": null,
      "outputs": []
    },
    {
      "cell_type": "code",
      "metadata": {
        "trusted": true,
        "id": "CAtwHEMSE4tr",
        "colab_type": "code",
        "colab": {}
      },
      "source": [
        "user_ratings = merged_sub.pivot_table(index=['user_id'],columns=['name'],values='user_rating')\n",
        "user_ratings.head()"
      ],
      "execution_count": null,
      "outputs": []
    },
    {
      "cell_type": "code",
      "metadata": {
        "trusted": true,
        "id": "REtITyLeE4ty",
        "colab_type": "code",
        "colab": {}
      },
      "source": [
        "##Removing anime which have less than 35 users who rated it to reduce the computation power neede. and fill remaining NaN with 0\n",
        "user_ratings = user_ratings.dropna(thresh=35,axis=1).fillna(0)\n",
        "user_ratings.head()"
      ],
      "execution_count": null,
      "outputs": []
    },
    {
      "cell_type": "code",
      "metadata": {
        "trusted": true,
        "id": "5H_1rTqSE4t7",
        "colab_type": "code",
        "colab": {}
      },
      "source": [
        "##Building our Similarity Matrix using pearson method\n",
        "item_similarity_df = user_ratings.corr(method='pearson')\n",
        "item_similarity_df.head(50)"
      ],
      "execution_count": null,
      "outputs": []
    },
    {
      "cell_type": "code",
      "metadata": {
        "trusted": true,
        "id": "0YRTE1TsE4uB",
        "colab_type": "code",
        "colab": {}
      },
      "source": [
        "#P#free up memory\n",
        "#joblib.dump(item_similarity_df,\"item_similarity_df\")"
      ],
      "execution_count": null,
      "outputs": []
    },
    {
      "cell_type": "code",
      "metadata": {
        "trusted": true,
        "id": "vsIQjr0VE4uK",
        "colab_type": "code",
        "colab": {}
      },
      "source": [
        "##Function to calulate the similar anime score\n",
        "def get_similar_anime(Anime_name,user_rating):\n",
        "    similar_score = item_similarity_df[Anime_name]*(user_rating-5)\n",
        "    similar_score = similar_score.sort_values(ascending=False)\n",
        "    \n",
        "    return similar_score"
      ],
      "execution_count": null,
      "outputs": []
    },
    {
      "cell_type": "code",
      "metadata": {
        "id": "bvXIbfM_zzHD",
        "colab_type": "code",
        "colab": {}
      },
      "source": [
        "#P#Creating a list of all names of anime from the .csv file for getting names from partial name\n",
        "all_anime_names = list(anime.name.values)"
      ],
      "execution_count": null,
      "outputs": []
    },
    {
      "cell_type": "code",
      "metadata": {
        "id": "SeRPQqj2zQ5P",
        "colab_type": "code",
        "colab": {}
      },
      "source": [
        "#P#Function to get anime name from partial name\n",
        "def get_id_from_partial_name(partial):\n",
        "    for name in all_anime_names:\n",
        "        if partial in name:\n",
        "            print(name,all_anime_names.index(name))"
      ],
      "execution_count": null,
      "outputs": []
    },
    {
      "cell_type": "code",
      "metadata": {
        "id": "r2jlVL_VxEjW",
        "colab_type": "code",
        "colab": {}
      },
      "source": [
        "##Function to Enter the anime and its ratings for the user\n",
        "def create_alist():\n",
        "  test_user=[]\n",
        "  n=int(input(\"Enter Number of Anime you want to enter in your list: \"))\n",
        "  for x in range (n):\n",
        "    test_n=input(\"Enter the anime name: \")\n",
        "    test_r=int(input(\"Enter your rating for the anime: \"))\n",
        "    test_var= test_n , test_r\n",
        "    test_user.append(test_var)\n",
        "  print('*'*100)\n",
        "  return (test_user)\n"
      ],
      "execution_count": null,
      "outputs": []
    },
    {
      "cell_type": "code",
      "metadata": {
        "id": "AyLSuHM9z7Ge",
        "colab_type": "code",
        "colab": {}
      },
      "source": [
        "#P#Use this to find the complete name of your anime series like in the dataset,Replace your incomplete name below\n",
        "get_id_from_partial_name(\"Naruto\")"
      ],
      "execution_count": null,
      "outputs": []
    },
    {
      "cell_type": "code",
      "metadata": {
        "id": "KtouENtnWP-c",
        "colab_type": "code",
        "colab": {}
      },
      "source": [
        "def display_recom():\n",
        "  cflag=-5\n",
        "  cflag=int(input(\"Enter '1' you want to enter your list directly in the console Or \\nEnter '0' you wish to use the pre exisisting template in the code below \\nWe recommend to use the pre existing template as it is convinient \\nNote: Edit the template if you wish to use it before hand  \"))\n",
        "  if cflag ==1:\n",
        "    user1= create_alist()\n",
        "  elif cflag == 0:\n",
        "    user1 = [(\"One Punch Man\",7),(\"Tokyo Ghoul\",6),(\"Gyakkyou Burai Kaiji: Ultimate Survivor\",8),(\"Steins;Gate\",8),\n",
        "                  (\"Death Note\",10),(\"Boku dake ga Inai Machi\",9),(\"Code Geass: Hangyaku no Lelouch\",7.5),(\"Code Geass: Hangyaku no Lelouch R2\",8.5),\n",
        "                 (\"Shigatsu wa Kimi no Uso\",9),(\"Shingeki no Kyojin\",9),(\"FLCL\",4),(\"Mob Psycho 100\",7),(\"91 Days\",6),(\"Naruto\",1),\n",
        "                  (\"Mirai Nikki\",3),(\"One Outs\",8),(\"Boku no Hero Academia\",2),(\"Ping Pong The Animation\",6),(\"No Game No Life\",7.5) ,(\"Zankyou no Terror\",6)]\n",
        "\n",
        "  print(\"\\n \\n\")\n",
        "  print(\"*\"*100)\n",
        "\n",
        "\n",
        "  def check_seen(Anime,seen_anime):\n",
        "      for item,rating in seen_anime:\n",
        "          if item == Anime:\n",
        "              return True\n",
        "      \n",
        "      return False\n",
        "          \n",
        "  similar_anime = pd.DataFrame()\n",
        "\n",
        "  for Anime,rating in user1:\n",
        "      similar_anime = similar_anime.append(get_similar_anime(Anime,rating),ignore_index=True)\n",
        "\n",
        "  all_recommend = similar_anime.sum().sort_values(ascending=False)\n",
        "  all_recommend=all_recommend.head(30)\n",
        "  print(\"Recommendations for you are\")\n",
        "  print('*'*100)\n",
        "  for Anime,score in all_recommend.iteritems():\n",
        "      if not check_seen(Anime,user1):\n",
        "          print(Anime)"
      ],
      "execution_count": null,
      "outputs": []
    },
    {
      "cell_type": "code",
      "metadata": {
        "id": "eVJLxjlo2E_i",
        "colab_type": "code",
        "colab": {}
      },
      "source": [
        "#Main Function\n",
        "display_recom()"
      ],
      "execution_count": null,
      "outputs": []
    }
  ]
}